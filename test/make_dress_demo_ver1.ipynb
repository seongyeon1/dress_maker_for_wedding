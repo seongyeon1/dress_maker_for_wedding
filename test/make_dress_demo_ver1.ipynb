{
 "cells": [
  {
   "cell_type": "markdown",
   "metadata": {},
   "source": [
    "### 드레스 피팅 대화 데이터셋을 바탕으로 키워드 추출\n",
    "- 키워드 추출이 의미가 있을까?\n",
    "- 그냥 바로 이미지 제작을 위한 프롬프트 생성 해버리는게 나을 것 같아서 그렇게 진행"
   ]
  },
  {
   "cell_type": "code",
   "execution_count": 1,
   "metadata": {},
   "outputs": [],
   "source": [
    "dialogue = \"\"\"\n",
    "<드레스 착용 전>\n",
    "실장 : 신부님 피부 톤이 살짝 있으셔서 완전 화이트보다는 살짝 아이보리 톤이 들어가고 광택감이 있는 미카도 실크가 어울리실 것 같아요. 혹시 드레스 선택하실 때 생각했던 디자인 있으실까요?\n",
    "신부 : 제가 팔뚝 살이 좀 있어서 팔을 좀 가리는 디자인이면 좋겠어요.\n",
    "실장 : 슬리브 있는 드레스는 오히려 팔을 드러낼 수 있어서 오프숄더 디자인이 오히려 팔이 얇아보이실거에요. 오프숄더 디자인으로 한번 준비해드릴게요.\n",
    "<드레스 착용 후>\n",
    "실장 : 너무 잘 어울리세요. 베일도 투 베일로 해서 베일로 시선 집중을 시켜서 팔이 더 얇아보이는 효과가 있어요. 신부님이 키가 있으셔서 살짝 슬림한 A라인으로 떨어지는 디자인이 날씬하게 보이는 효과가 있어요. 혹시 티아라는 하실건가요?\n",
    "신부 : 아뇨, 티아라는 괜찮아요.\n",
    "실장 : 맞아요. 이 드레스가 작은 비즈가 촘촘히 박혀있어서, 아래쪽이 화려하다보니 티아라까지 하면 좀 투머치일 수 있어요. 식장은 어디쪽으로 잡으셨어요?\n",
    "신부 : 빌라드지디 청담으로 잡았어요.\n",
    "실장 : 빌라드지디가 밝은 홀이라 레이스 없이 깔끔한 이런 디자인이 잘 어울려요. 식장이랑도 잘 어울리겠네요.\n",
    "\"\"\"\n"
   ]
  },
  {
   "cell_type": "code",
   "execution_count": 11,
   "metadata": {},
   "outputs": [
    {
     "name": "stdout",
     "output_type": "stream",
     "text": [
      "AI Art Prompt:\n",
      "\n",
      "Create a detailed illustration of a bride wearing an elegant Jamie Bridal gown made of off-shoulder, sleeveless, and slightly slimmer A-line silhouette with a pure feminine style. The dress should be made of a luxurious and opulent Mikado silk fabric with a slight ivory tone and a subtle sheen. The dress should have a high-quality, well-crafted look, with intricate details such as delicate beading and embroidery. The bride should have a natural, glowing makeup look, with her hair styled in a sophisticated updo. The background should be a lush garden setting with vibrant greenery and flowers, with a soft, natural lighting effect. The overall mood of the illustration should be romantic, elegant, and timeless."
     ]
    }
   ],
   "source": [
    "from openai import OpenAI # openai==1.2.0\n",
    "import os\n",
    "\n",
    "client = OpenAI(\n",
    "    api_key=os.getenv('UPSTAGE_API_KEY'),\n",
    "    base_url=\"https://api.upstage.ai/v1/solar\"\n",
    ")\n",
    " \n",
    "\n",
    "prompt = \"\"\"\n",
    "  You are a helpful prompt creator.\n",
    "  Please describe the dress in your user's content in as much detail as possible. \n",
    "  This should be in the form of an AI prompt.\n",
    "  Write in ENGLISH.\n",
    "\n",
    "  Tips for Best Prompts for AI Art:\n",
    "  Here are some AI prompt ideas and tips for creating the good AI prompts for realistic art.\n",
    "\n",
    "  - Use words that the generator can understand easily. Avoid using uncommon or difficult words that the neural networks might not recognize.\n",
    "  - Make sure to keep your AI art prompts brief and to the point. Avoid giving too much detail, as it can overwhelm the system.\n",
    "  - Use lots of descriptive words to talk about the subject and layout of your art.\n",
    "  - Don’t use words that mean the opposite of each other together. It can confuse the AI-generated art style.\n",
    "\n",
    "  EXAMPLE : street style photo, full shot of a Asian female model wearing an elegant Jamie Bridal gown that emphasizes a pure feminine style, in a lush garden setting, natural lighting, shot on Sony A7S III high resolution digital camera, global illumination\n",
    "\n",
    "  CONTENT :\n",
    "\"\"\"\n",
    "stream = client.chat.completions.create(\n",
    "    model=\"solar-1-mini-chat\",\n",
    "    messages=[\n",
    "      {\n",
    "        \"role\": \"system\",\n",
    "        \"content\": prompt\n",
    "      },\n",
    "      {\n",
    "        \"role\": \"user\",\n",
    "        \"content\": dialogue\n",
    "      }\n",
    "    ],\n",
    "    stream=True,\n",
    ")\n",
    "\n",
    "result = ''\n",
    "for chunk in stream:\n",
    "    if chunk.choices[0].delta.content is not None:\n",
    "        text = chunk.choices[0].delta.content\n",
    "        print(text, end=\"\")\n",
    "        result += text\n",
    "\n",
    "# print(result)\n",
    "# Use with stream=False\n",
    "# print(stream.choices[0].message.content)"
   ]
  },
  {
   "cell_type": "markdown",
   "metadata": {},
   "source": [
    "### 위에서 만들어진 프롬프트를 기반으로 이미지를 생성하라고 시킴\n",
    "- 사용한 모델 : flux\n",
    "- https://fal.ai/models/fal-ai/flux/dev/examples"
   ]
  },
  {
   "cell_type": "code",
   "execution_count": null,
   "metadata": {},
   "outputs": [],
   "source": [
    "os.environ['FAL_KEY'] = os.getenv('FAL_KEY')"
   ]
  },
  {
   "cell_type": "code",
   "execution_count": 27,
   "metadata": {},
   "outputs": [
    {
     "name": "stdout",
     "output_type": "stream",
     "text": [
      "{'images': [{'url': 'https://fal.media/files/koala/tcZrWYS0bIq7nMVz6YGn7.png', 'width': 1024, 'height': 768, 'content_type': 'image/jpeg'}], 'timings': {'inference': 2.168901782017201}, 'seed': 636616846, 'has_nsfw_concepts': [False], 'prompt': 'create a detailed illustration of a bride wearing an elegant jamie bridal gown made of off-shoulder, sleeveless, and slightly slimmer a-line silhouette with a pure feminine style. the dress should be made of a luxurious and opulent mikado silk fabric with a slight ivory tone and a subtle sheen. the dress should have a high-quality, well-crafted look, with intricate details such as delicate beading and embroidery. the bride should have a natural, glowing makeup look, with her hair styled in a sophisticated updo. the background should be a lush garden setting with vibrant greenery and flowers, with a soft, natural lighting effect. the overall mood of the illustration should be romantic, elegant, and timeless.'}\n"
     ]
    }
   ],
   "source": [
    "import fal_client\n",
    "\n",
    "handler = fal_client.submit(\n",
    "    \"fal-ai/flux/dev\",\n",
    "    arguments={\n",
    "        \"prompt\": prompt,\n",
    "        \"image_size\": \"landscape_4_3\",\n",
    "        \"num_inference_steps\": 28,\n",
    "        \"guidance_scale\": 3.5,\n",
    "        \"num_images\": 1,\n",
    "        \"enable_safety_checker\": True\n",
    "    },\n",
    ")\n",
    "\n",
    "result = handler.get()\n",
    "print(result)"
   ]
  },
  {
   "cell_type": "markdown",
   "metadata": {},
   "source": [
    "### 결과"
   ]
  },
  {
   "cell_type": "code",
   "execution_count": 30,
   "metadata": {},
   "outputs": [
    {
     "data": {
      "text/html": [
       "<img src=\"https://fal.media/files/koala/tcZrWYS0bIq7nMVz6YGn7.png\"/>"
      ],
      "text/plain": [
       "<IPython.core.display.Image object>"
      ]
     },
     "execution_count": 30,
     "metadata": {},
     "output_type": "execute_result"
    }
   ],
   "source": [
    "from IPython.display import Image\n",
    "from IPython.core.display import HTML \n",
    "Image(url= \"https://fal.media/files/koala/tcZrWYS0bIq7nMVz6YGn7.png\")"
   ]
  },
  {
   "cell_type": "markdown",
   "metadata": {},
   "source": [
    "### 정리\n",
    "- 문제 \n",
    "1. 프롬프트를 일단 대충 만들어서 형식이 바뀔 경우가 있다\n",
    "2. 드레스 자체를 hallucination 하는 경우가 다수 존재하는 것으로 파악된다."
   ]
  }
 ],
 "metadata": {
  "kernelspec": {
   "display_name": ".venv",
   "language": "python",
   "name": "python3"
  },
  "language_info": {
   "codemirror_mode": {
    "name": "ipython",
    "version": 3
   },
   "file_extension": ".py",
   "mimetype": "text/x-python",
   "name": "python",
   "nbconvert_exporter": "python",
   "pygments_lexer": "ipython3",
   "version": "3.12.4"
  }
 },
 "nbformat": 4,
 "nbformat_minor": 2
}
