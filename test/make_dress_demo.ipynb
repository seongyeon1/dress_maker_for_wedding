{
 "cells": [
  {
   "cell_type": "markdown",
   "metadata": {},
   "source": [
    "### 드레스 피팅 대화 데이터셋을 바탕으로 키워드 추출\n",
    "- 키워드 추출이 의미가 있을까?\n",
    "- 그냥 바로 이미지 제작을 위한 프롬프트 생성 해버리는게 나을 것 같아서 그렇게 진행"
   ]
  },
  {
   "cell_type": "code",
   "execution_count": 32,
   "metadata": {},
   "outputs": [],
   "source": [
    "dialogue = \"\"\"\n",
    "<드레스 착용 전>\n",
    "실장 : 신부님 피부 톤이 살짝 있으셔서 완전 화이트보다는 살짝 아이보리 톤이 들어가고 광택감이 있는 미카도 실크가 어울리실 것 같아요. 혹시 드레스 선택하실 때 생각했던 디자인 있으실까요?\n",
    "신부 : 제가 팔뚝 살이 좀 있어서 팔을 좀 가리는 디자인이면 좋겠어요.\n",
    "실장 : 슬리브 있는 드레스는 오히려 팔을 드러낼 수 있어서 오프숄더 디자인이 오히려 팔이 얇아보이실거에요. 오프숄더 디자인으로 한번 준비해드릴게요.\n",
    "<드레스 착용 후>\n",
    "실장 : 너무 잘 어울리세요. 베일도 투 베일로 해서 베일로 시선 집중을 시켜서 팔이 더 얇아보이는 효과가 있어요. 신부님이 키가 있으셔서 살짝 슬림한 A라인으로 떨어지는 디자인이 날씬하게 보이는 효과가 있어요. 혹시 티아라는 하실건가요?\n",
    "신부 : 아뇨, 티아라는 괜찮아요.\n",
    "실장 : 맞아요. 이 드레스가 작은 비즈가 촘촘히 박혀있어서, 아래쪽이 화려하다보니 티아라까지 하면 좀 투머치일 수 있어요. 식장은 어디쪽으로 잡으셨어요?\n",
    "신부 : 빌라드지디 청담으로 잡았어요.\n",
    "실장 : 빌라드지디가 밝은 홀이라 레이스 없이 깔끔한 이런 디자인이 잘 어울려요. 식장이랑도 잘 어울리겠네요.\n",
    "\"\"\"\n",
    "system_prompt = \"\"\"\n",
    "기본정보와 상세 디자인 정보를 바탕으로 대화에 나오는 드레스에 대해 최대한 상세하게 설명해주세요.\n",
    "\n",
    "----\n",
    "### FORMAT :\n",
    "{\n",
    "  '기본정보' : {\n",
    "    '스타일' : '클래식',\n",
    "    '원단' : '미카도 실크',\n",
    "    '컬러' : '아이보리'\n",
    "  },\n",
    "  '상세 디자인': {\n",
    "    '스타일' : '오프숄더',\n",
    "    '스트랩' : '없음',\n",
    "    '디테일' : '비즈 장식'\n",
    "  }\n",
    "  '설명' : '${드레스묘사}'\n",
    "}\n",
    "-----\n",
    "### 반드시 JSON 형식으로 답변하세요.\n",
    "  \n",
    "### Description :\n",
    "\"\"\"\n",
    "\n",
    "\n",
    "# img_maker_prompt = \"\"\"\n",
    "# You are an expert Prompt Writer for image generation. \n",
    "# Your goal is to create a prompt based on the given dialogue to guide the image generator in creating a sketch:\n",
    "\n",
    "# --------------------\n",
    "\n",
    "# Dialogue: {dialogue}\n",
    "\n",
    "# --------------------\n",
    "\n",
    "# Guidelines for crafting effective prompts:\n",
    "\n",
    "# - Use simple and clear language that the generator can easily understand.\n",
    "# - Keep your prompts concise, avoiding overly detailed descriptions that might confuse the system.\n",
    "# - Incorporate descriptive words that capture the subject and layout of the image.\n",
    "# - Avoid contradictory terms that could confuse the AI in determining the style or content.\n",
    "\n",
    "# ---------\n",
    "\n",
    "# ### EXAMPLE:\n",
    "# A beautiful, flowing ball gown with a classic silhouette, square neckline, and cinched waist. Emphasize the elegant drape of the fabric and the full skirt. Sketch style, black and white line art.\n",
    "\n",
    "# -----\n",
    "\n",
    "# Now, create a prompt.\n",
    "\n",
    "# ### REMEMBER to add \"Sketch style, black and white line art\" at the end of the prompt.\n",
    "# ### REMEMBER: Answer in ENGLISH\n",
    "# ### PROMPT:\n",
    "# \"\"\"\n",
    "img_maker_prompt = \"\"\"\n",
    "You are an expert Prompt Writer for image generation. \n",
    "Your goal is to create a prompt based on the given dialogue to guide the image generator in creating a sketch:\n",
    "\n",
    "--------------------\n",
    "\n",
    "Dialogue: {dialogue}\n",
    "\n",
    "--------------------\n",
    "\n",
    "Guidelines for crafting effective prompts:\n",
    "\n",
    "- Focus on the front view of the clothing only. Ensure the prompt emphasizes the design, details, and features of the clothing from the front.\n",
    "- Make sure that no person or human figure is included in the sketch, only the clothing itself.\n",
    "- Use simple and clear language that the generator can easily understand.\n",
    "- Keep your prompts concise, avoiding overly detailed descriptions that might confuse the system.\n",
    "- Incorporate descriptive words that capture the subject and layout of the clothing.\n",
    "- Avoid contradictory terms that could confuse the AI in determining the style or content.\n",
    "\n",
    "---------\n",
    "\n",
    "### EXAMPLE:\n",
    "A front view of a beautiful, flowing ball gown with a classic silhouette, square neckline, and cinched waist. Emphasize the elegant drape of the fabric and the full skirt. No human figure included. Sketch style, black and white line art.\n",
    "\n",
    "-----\n",
    "\n",
    "Now, create a prompt.\n",
    "\n",
    "### REMEMBER to add \"Sketch style, black and white line art\" at the end of the prompt.\n",
    "### REMEMBER: Answer in ENGLISH\n",
    "### PROMPT:\n",
    "\"\"\""
   ]
  },
  {
   "cell_type": "code",
   "execution_count": 5,
   "metadata": {},
   "outputs": [
    {
     "name": "stdout",
     "output_type": "stream",
     "text": [
      "{\n",
      "  '기본정보' : {\n",
      "    '스타일' : 'A라인',\n",
      "    '원단' : '미카도 실크',\n",
      "    '컬러' : '아이보리'\n",
      "  },\n",
      "  '상세 디자인': {\n",
      "    '스타일' : '오프숄더',\n",
      "    '스트랩' : '없음',\n",
      "    '디테일' : '비즈 장식'\n",
      "  }\n",
      "  '설명' : '아이보리 컬러의 미카도 실크 소재의 A라인 드레스로, 오프숄더 디자인과 비즈 장식이 특징입니다. 슬림한 실루엣으로 키가 큰 신부에게 잘 어울리며, 티아라 없이도 화려한 느낌을 줍니다. 빌라드지디 청담과 같은 밝은 홀에서 잘 어울리는 드레스입니다.'\n",
      "}"
     ]
    }
   ],
   "source": [
    "from openai import OpenAI # openai==1.2.0\n",
    "import os\n",
    "from dotenv import load_dotenv\n",
    "\n",
    "load_dotenv()\n",
    "\n",
    "client = OpenAI(\n",
    "    api_key=os.getenv('UPSTAGE_API_KEY'),\n",
    "    base_url=\"https://api.upstage.ai/v1/solar\"\n",
    ")\n",
    " \n",
    "stream = client.chat.completions.create(\n",
    "    model=\"solar-1-mini-chat\",\n",
    "    messages=[\n",
    "      {\n",
    "        \"role\": \"system\",\n",
    "        \"content\": system_prompt\n",
    "      },\n",
    "      {\n",
    "        \"role\": \"user\",\n",
    "        \"content\": dialogue\n",
    "      }\n",
    "    ],\n",
    "    stream=True,\n",
    ")\n",
    "\n",
    "result = ''\n",
    "for chunk in stream:\n",
    "    if chunk.choices[0].delta.content is not None:\n",
    "        text = chunk.choices[0].delta.content\n",
    "        print(text, end=\"\")\n",
    "        result += text\n",
    "\n",
    "# print(result)\n",
    "# Use with stream=False\n",
    "# print(stream.choices[0].message.content)"
   ]
  },
  {
   "cell_type": "markdown",
   "metadata": {},
   "source": [
    "### 위에서 만들어진 프롬프트를 기반으로 이미지를 생성하라고 시킴\n",
    "- 사용한 모델 : flux\n",
    "- https://fal.ai/models/fal-ai/flux/dev/examples"
   ]
  },
  {
   "cell_type": "code",
   "execution_count": 17,
   "metadata": {},
   "outputs": [],
   "source": [
    "os.environ['FAL_KEY'] = os.getenv('FAL_KEY')\n",
    "UPSTAGE_API_KEY = os.getenv(\"UPSTAGE_API_KEY\")"
   ]
  },
  {
   "cell_type": "code",
   "execution_count": 18,
   "metadata": {},
   "outputs": [],
   "source": [
    "from langchain_upstage import ChatUpstage\n",
    "from langchain import LLMChain\n",
    "from langchain.prompts import PromptTemplate\n",
    "# from langchain.llms import OpenAI"
   ]
  },
  {
   "cell_type": "code",
   "execution_count": 33,
   "metadata": {},
   "outputs": [],
   "source": [
    "def make_prompt(dialogue):\n",
    "    template = img_maker_prompt\n",
    "    prompt_template = PromptTemplate(input_variables=[\"dialogue\"], template=template)\n",
    "    chain = LLMChain(prompt=prompt_template, llm=ChatUpstage(api_key=UPSTAGE_API_KEY))\n",
    "    response = chain.run(dialogue=dialogue)\n",
    "    return response"
   ]
  },
  {
   "cell_type": "code",
   "execution_count": 34,
   "metadata": {},
   "outputs": [
    {
     "data": {
      "text/plain": [
       "\"A front view of a bridal dress in a slightly ivory tone with a glossy mikado silk texture. The dress features an off-shoulder design with a slightly slimmer A-line shape that falls gracefully to the floor. The dress has a fitted bodice with a cinched waist, accentuating the bride's figure. The skirt is full and flared, with a small train at the back. The dress has a simple, elegant design, with a subtle pattern of small, 촘촘히 박혀있는 비즈. The dress is paired with a veil that is held up by a headpiece, adding a touch of elegance to the overall look. No human figure included. Sketch style, black and white line art.\""
      ]
     },
     "execution_count": 34,
     "metadata": {},
     "output_type": "execute_result"
    }
   ],
   "source": [
    "img_prompt = make_prompt(dialogue)\n",
    "img_prompt"
   ]
  },
  {
   "cell_type": "code",
   "execution_count": 35,
   "metadata": {},
   "outputs": [
    {
     "name": "stdout",
     "output_type": "stream",
     "text": [
      "{'images': [{'url': 'https://fal.media/files/lion/VxlsjwZ0g1iw8Q-YKFN-C.png', 'width': 1024, 'height': 768, 'content_type': 'image/jpeg'}], 'timings': {'inference': 2.200373040002887}, 'seed': 4077771586, 'has_nsfw_concepts': [False], 'prompt': '\\nYou are an expert Prompt Writer for image generation. \\nYour goal is to create a prompt based on the given dialogue to guide the image generator in creating a sketch:\\n\\n--------------------\\n\\nDialogue: {dialogue}\\n\\n--------------------\\n\\nGuidelines for crafting effective prompts:\\n\\n- Focus on the front view of the clothing only. Ensure the prompt emphasizes the design, details, and features of the clothing from the front.\\n- Make sure that no person or human figure is included in the sketch, only the clothing itself.\\n- Use simple and clear language that the generator can easily understand.\\n- Keep your prompts concise, avoiding overly detailed descriptions that might confuse the system.\\n- Incorporate descriptive words that capture the subject and layout of the clothing.\\n- Avoid contradictory terms that could confuse the AI in determining the style or content.\\n\\n---------\\n\\n### EXAMPLE:\\nA front view of a beautiful, flowing ball gown with a classic silhouette, square neckline, and cinched waist. Emphasize the elegant drape of the fabric and the full skirt. No human figure included. Sketch style, black and white line art.\\n\\n-----\\n\\nNow, create a prompt.\\n\\n### REMEMBER to add \"Sketch style, black and white line art\" at the end of the prompt.\\n### REMEMBER: Answer in ENGLISH\\n### PROMPT:\\n'}\n"
     ]
    }
   ],
   "source": [
    "import fal_client\n",
    "\n",
    "handler = fal_client.submit(\n",
    "    \"fal-ai/flux/dev\",\n",
    "    arguments={\n",
    "        \"prompt\": img_maker_prompt,\n",
    "        \"image_size\": \"landscape_4_3\",\n",
    "        \"num_inference_steps\": 28,\n",
    "        \"guidance_scale\": 3.5,\n",
    "        \"num_images\": 1,\n",
    "        \"enable_safety_checker\": True\n",
    "    },\n",
    ")\n",
    "\n",
    "result = handler.get()\n",
    "print(result)"
   ]
  },
  {
   "cell_type": "markdown",
   "metadata": {},
   "source": [
    "### 결과"
   ]
  },
  {
   "cell_type": "code",
   "execution_count": 36,
   "metadata": {},
   "outputs": [],
   "source": [
    "img_url = result['images'][0]['url']"
   ]
  },
  {
   "cell_type": "code",
   "execution_count": 37,
   "metadata": {},
   "outputs": [
    {
     "data": {
      "text/html": [
       "<img src=\"https://fal.media/files/lion/VxlsjwZ0g1iw8Q-YKFN-C.png\"/>"
      ],
      "text/plain": [
       "<IPython.core.display.Image object>"
      ]
     },
     "execution_count": 37,
     "metadata": {},
     "output_type": "execute_result"
    }
   ],
   "source": [
    "from IPython.display import Image\n",
    "from IPython.core.display import HTML \n",
    "Image(url= img_url)"
   ]
  },
  {
   "cell_type": "markdown",
   "metadata": {},
   "source": [
    "### 정리\n",
    "- 스케치 결과는 어찌어찌 나온다\n",
    "\n",
    "문제점:\n",
    "- 매번 스케치의 형태가 다르게 나온다\n",
    "- 틀린 형태가 나오는 것 같기도 하다 (판단이 어렵긴 하다)\n",
    "\n",
    "TO-DO:\n",
    "- 사람 안나오도록??"
   ]
  },
  {
   "cell_type": "markdown",
   "metadata": {},
   "source": []
  }
 ],
 "metadata": {
  "kernelspec": {
   "display_name": ".venv",
   "language": "python",
   "name": "python3"
  },
  "language_info": {
   "codemirror_mode": {
    "name": "ipython",
    "version": 3
   },
   "file_extension": ".py",
   "mimetype": "text/x-python",
   "name": "python",
   "nbconvert_exporter": "python",
   "pygments_lexer": "ipython3",
   "version": "3.12.4"
  }
 },
 "nbformat": 4,
 "nbformat_minor": 2
}
